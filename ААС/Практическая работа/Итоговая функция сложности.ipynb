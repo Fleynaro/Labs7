{
 "cells": [
  {
   "cell_type": "code",
   "execution_count": 44,
   "metadata": {},
   "outputs": [],
   "source": [
    "from sympy import *\n",
    "import matplotlib.pyplot as plt\n",
    "\n",
    "plt.rcParams['figure.figsize'] = 10, 8"
   ]
  },
  {
   "cell_type": "code",
   "execution_count": 73,
   "metadata": {},
   "outputs": [
    {
     "name": "stdout",
     "output_type": "stream",
     "text": [
      "AbstractMatrix::Add\n"
     ]
    },
    {
     "data": {
      "text/latex": [
       "$\\displaystyle 5 n^{2} + 4 n + 2$"
      ],
      "text/plain": [
       "5*n**2 + 4*n + 2"
      ]
     },
     "metadata": {},
     "output_type": "display_data"
    },
    {
     "name": "stdout",
     "output_type": "stream",
     "text": [
      "AbstractMatrix::Mul\n"
     ]
    },
    {
     "data": {
      "text/latex": [
       "$\\displaystyle 4 n^{3} + 5 n^{2} + 4 n + 2$"
      ],
      "text/plain": [
       "4*n**3 + 5*n**2 + 4*n + 2"
      ]
     },
     "metadata": {},
     "output_type": "display_data"
    },
    {
     "name": "stdout",
     "output_type": "stream",
     "text": [
      "addQuarter\n"
     ]
    },
    {
     "data": {
      "text/latex": [
       "$\\displaystyle 8 n^{2} + 4 n + 2$"
      ],
      "text/plain": [
       "8*n**2 + 4*n + 2"
      ]
     },
     "metadata": {},
     "output_type": "display_data"
    },
    {
     "name": "stdout",
     "output_type": "stream",
     "text": [
      "takeQuarter\n"
     ]
    },
    {
     "data": {
      "text/latex": [
       "$\\displaystyle 7 n^{2} + 4 n + 2$"
      ],
      "text/plain": [
       "7*n**2 + 4*n + 2"
      ]
     },
     "metadata": {},
     "output_type": "display_data"
    },
    {
     "name": "stdout",
     "output_type": "stream",
     "text": [
      "clear\n"
     ]
    },
    {
     "data": {
      "text/latex": [
       "$\\displaystyle 7 n^{2} + 4 n + 2$"
      ],
      "text/plain": [
       "7*n**2 + 4*n + 2"
      ]
     },
     "metadata": {},
     "output_type": "display_data"
    },
    {
     "name": "stdout",
     "output_type": "stream",
     "text": [
      "recMul при n > M\n"
     ]
    },
    {
     "data": {
      "text/latex": [
       "$\\displaystyle 317 n^{2} + 188 n + 150$"
      ],
      "text/plain": [
       "317*n**2 + 188*n + 150"
      ]
     },
     "metadata": {},
     "output_type": "display_data"
    },
    {
     "name": "stdout",
     "output_type": "stream",
     "text": [
      "recMul при n == M\n"
     ]
    },
    {
     "data": {
      "text/latex": [
       "$\\displaystyle 4 n^{3} + 5 n^{2} + 4 n + 4$"
      ],
      "text/plain": [
       "4*n**3 + 5*n**2 + 4*n + 4"
      ]
     },
     "metadata": {},
     "output_type": "display_data"
    },
    {
     "name": "stdout",
     "output_type": "stream",
     "text": [
      "\n",
      "M = 32\n",
      "Рекурентное соотношение - функция сложности от максимальной глубины рекурсии:\n"
     ]
    },
    {
     "data": {
      "text/latex": [
       "$\\displaystyle T{\\left(h \\right)} = \\frac{317 \\cdot 2^{2 h}}{4} + 94 \\cdot 2^{h} + 7 T{\\left(h - 1 \\right)} + 150$"
      ],
      "text/plain": [
       "Eq(T(h), 317*2**(2*h)/4 + 94*2**h + 7*T(h - 1) + 150)"
      ]
     },
     "metadata": {},
     "output_type": "display_data"
    },
    {
     "data": {
      "text/latex": [
       "$\\displaystyle T{\\left(\\log{\\left(32 \\right)} \\right)} = 136324$"
      ],
      "text/plain": [
       "Eq(T(log(32)), 136324)"
      ]
     },
     "metadata": {},
     "output_type": "display_data"
    },
    {
     "name": "stdout",
     "output_type": "stream",
     "text": [
      "Функция сложности от N:\n"
     ]
    },
    {
     "data": {
      "text/latex": [
       "$\\displaystyle T{\\left(N \\right)} = \\frac{3686323 \\cdot 7^{\\frac{\\log{\\left(N \\right)}}{\\log{\\left(2 \\right)}}}}{252105} - \\frac{317 N^{2}}{3} - \\frac{188 N}{5} - 25$"
      ],
      "text/plain": [
       "Eq(T(N), 3686323*7**(log(N)/log(2))/252105 - 317*N**2/3 - 188*N/5 - 25)"
      ]
     },
     "metadata": {},
     "output_type": "display_data"
    },
    {
     "name": "stdout",
     "output_type": "stream",
     "text": [
      "Эта же функция в виде строки:\n",
      "3686323*7**(log(N)/log(2))/252105 - 317*N**2/3 - 188*N/5 - 25\n",
      "Функция сложности для тривиального алгоритма в виде строки:\n",
      "4*n**3 + 5*n**2 + 4*n + 2\n",
      "\n",
      "График функции\n"
     ]
    },
    {
     "data": {
      "image/png": "[encoded data removed]",
      "text/plain": [
       "<Figure size 720x576 with 1 Axes>"
      ]
     },
     "metadata": {
      "needs_background": "light"
     },
     "output_type": "display_data"
    },
    {
     "data": {
      "text/plain": [
       "<sympy.plotting.plot.Plot at 0x2099d80eee0>"
      ]
     },
     "execution_count": 73,
     "metadata": {},
     "output_type": "execute_result"
    }
   ],
   "source": [
    "n, d, h, N, M = symbols('n, d, h, N, M', integer=True)\n",
    "T = Function('T')\n",
    "\n",
    "#AbstractMatrix::Add\n",
    "T_f1 = (1 + (n + 1) + n) + n * ((1 + (n + 1) + n) + n * 3)\n",
    "print(\"AbstractMatrix::Add\")\n",
    "display(simplify(T_f1))\n",
    "\n",
    "#AbstractMatrix::Mul\n",
    "T_f2 = (1 + (n + 1) + n) + n * ((1 + (n + 1) + n) + n * (1 + (1 + (n + 1) + n) + n * 2))\n",
    "print(\"AbstractMatrix::Mul\")\n",
    "display(simplify(T_f2))\n",
    "\n",
    "#getTempMatrixByIndex (не используется в расчете)\n",
    "T_f3 = 4 + (d+1) + d * (5 + 1 + 1) + 2 + 8\n",
    "\n",
    "#addQuarter\n",
    "T_f4 = (1 + (n + 1) + n) + n * ((1 + (n + 1) + n) + n * 6)\n",
    "print(\"addQuarter\")\n",
    "display(simplify(T_f4))\n",
    "\n",
    "#takeQuarter\n",
    "T_f5 = (1 + (n + 1) + n) + n * ((1 + (n + 1) + n) + n * 5)\n",
    "print(\"takeQuarter\")\n",
    "display(simplify(T_f5))\n",
    "\n",
    "#clear\n",
    "T_f6 = (1 + (n + 1) + n) + n * ((1 + (n + 1) + n) + n * 1)\n",
    "print(\"clear\")\n",
    "display(simplify(T_f5))\n",
    "\n",
    "#recMul n > m\n",
    "T_F1 = 3 + 1 + 7 + 10 * T_f1 + 3 * T_f3 + 12 * T_f4 + 24 * T_f5 + T_f6\n",
    "T_F1 = T_F1.subs(d, 0)\n",
    "print(\"recMul при n > M\")\n",
    "display(simplify(T_F1))\n",
    "\n",
    "#recMul n <= m\n",
    "T_F2 = 2 + T_f2\n",
    "print(\"recMul при n == M\")\n",
    "display(simplify(T_F2))\n",
    "\n",
    "\n",
    "M0 = 32\n",
    "\n",
    "print(\"\\nM = \" + str(M0))\n",
    "f = 7 * T(h - 1) + T_F1.subs(n, 2 ** h / 2)\n",
    "f = simplify(f)\n",
    "print(\"Рекурентное соотношение - функция сложности от максимальной глубины рекурсии:\")\n",
    "display(Eq(T(h), f))\n",
    "display(Eq(T(log(M0)), T_F2.subs(n, M0)))\n",
    "sol = rsolve(T(h) - f, T(h), {T(log(M0, 2)):T_F2.subs(n, M0)})\n",
    "\n",
    "formula = sol.subs(h, log(N, 2))\n",
    "print(\"Функция сложности от N:\")\n",
    "display(Eq(T(N), formula))\n",
    "\n",
    "print(\"Эта же функция в виде строки:\")\n",
    "print(formula)\n",
    "\n",
    "print(\"Функция сложности для тривиального алгоритма в виде строки:\")\n",
    "print(simplify(T_f2))\n",
    "\n",
    "print(\"\\nГрафик функции\")\n",
    "plot(formula, (N, 32, 1000))"
   ]
  },
  {
   "cell_type": "code",
   "execution_count": 46,
   "metadata": {},
   "outputs": [
    {
     "name": "stdout",
     "output_type": "stream",
     "text": [
      "Сравнение\n"
     ]
    },
    {
     "data": {
      "image/png": "[encoded data removed]",
      "text/plain": [
       "<Figure size 720x576 with 1 Axes>"
      ]
     },
     "metadata": {
      "needs_background": "light"
     },
     "output_type": "display_data"
    },
    {
     "name": "stdout",
     "output_type": "stream",
     "text": [
      "4*n**3 + 5*n**2 + 4*n + 2\n"
     ]
    }
   ],
   "source": [
    "print(\"Сравнение\")\n",
    "\n",
    "p1 = plot(simplify(T_f2), (n, 32, 5000), line_color='b', legend=1, title='Сравнение 2-х алгоритмов', show = False)\n",
    "p2 = plot(formula, (N, 32, 5000), line_color='r', show = False)\n",
    "p1.append(p2[0])\n",
    "p1.show()\n",
    "print(simplify(T_f2))"
   ]
  },
  {
   "cell_type": "code",
   "execution_count": 72,
   "metadata": {},
   "outputs": [
    {
     "data": {
      "text/latex": [
       "$\\displaystyle C \\left(- \\frac{19840775}{3} + \\frac{3686323 \\cdot 7^{\\frac{\\log{\\left(250 \\right)}}{\\log{\\left(2 \\right)}}}}{252105}\\right) - 577.7985 = 0$"
      ],
      "text/plain": [
       "Eq(C*(-19840775/3 + 3686323*7**(log(250)/log(2))/252105) - 577.7985, 0)"
      ]
     },
     "metadata": {},
     "output_type": "display_data"
    },
    {
     "name": "stdout",
     "output_type": "stream",
     "text": [
      "Время одной операции (в секундах): \n"
     ]
    },
    {
     "data": {
      "text/latex": [
       "$\\displaystyle 7.99712945155365 \\cdot 10^{-9}$"
      ],
      "text/plain": [
       "7.99712945155365e-9"
      ]
     },
     "metadata": {},
     "output_type": "display_data"
    },
    {
     "name": "stdout",
     "output_type": "stream",
     "text": [
      "Частота процессора (в мГц): \n"
     ]
    },
    {
     "data": {
      "text/latex": [
       "$\\displaystyle 125.044868419096$"
      ],
      "text/plain": [
       "125.044868419096"
      ]
     },
     "metadata": {},
     "output_type": "display_data"
    }
   ],
   "source": [
    "C = symbols(\"C\")\n",
    "eq = formula.subs(N, 250) * C - 577.798500\n",
    "display(Eq(eq, 0))\n",
    "C_0 = solve(eq, C)\n",
    "print(\"Время одной операции (в секундах): \")\n",
    "t_op = C_0[0] / 1000\n",
    "display(t_op)\n",
    "print(\"Частота процессора (в мГц): \")\n",
    "display(1 / t_op / 1000000)"
   ]
  }
 ],
 "metadata": {
  "kernelspec": {
   "display_name": "Python 3",
   "language": "python",
   "name": "python3"
  },
  "language_info": {
   "codemirror_mode": {
    "name": "ipython",
    "version": 3
   },
   "file_extension": ".py",
   "mimetype": "text/x-python",
   "name": "python",
   "nbconvert_exporter": "python",
   "pygments_lexer": "ipython3",
   "version": "3.8.2"
  }
 },
 "nbformat": 4,
 "nbformat_minor": 4
}
